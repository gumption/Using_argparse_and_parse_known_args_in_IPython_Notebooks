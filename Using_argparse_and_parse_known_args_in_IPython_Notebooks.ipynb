{
 "metadata": {
  "name": "",
  "signature": "sha256:5191ee72e5dd6235757d652884baee77e282f4b3b9c9e2daa1c292c36b98cd86"
 },
 "nbformat": 3,
 "nbformat_minor": 0,
 "worksheets": [
  {
   "cells": [
    {
     "cell_type": "heading",
     "level": 1,
     "metadata": {},
     "source": [
      "Using `argparse` and `parse_known_args` in IPython Notebooks"
     ]
    },
    {
     "cell_type": "markdown",
     "metadata": {},
     "source": [
      "A while back, I discovered that it is possible to prototype Python scripts that include a conditional specification of the Python top-level environment, [`__main__`](https://docs.python.org/2/library/__main__.html), that is typically used to encapsulate the statements that will execute if the Python file is invoked as a main program, rather than, say, being imported into another Python script.\n",
      "\n",
      "I found this a handy to iteratively test variations of functionality and implementation details by copying and pasting cells containing function definitions and main programs ... and then copying and pasting the final code cell into a Python file buffer in an integrated development environment such as [PyCharm](https://www.jetbrains.com/pycharm/)."
     ]
    },
    {
     "cell_type": "code",
     "collapsed": false,
     "input": [
      "if __name__ == '__main__':\n",
      "    print 'hello, world'"
     ],
     "language": "python",
     "metadata": {},
     "outputs": [
      {
       "output_type": "stream",
       "stream": "stdout",
       "text": [
        "hello, world\n"
       ]
      }
     ],
     "prompt_number": 1
    },
    {
     "cell_type": "heading",
     "level": 2,
     "metadata": {},
     "source": [
      "Using `argparse.ArgumentParser.parse_args()`"
     ]
    },
    {
     "cell_type": "markdown",
     "metadata": {},
     "source": [
      "Recently, I have been making use of the Python [`argparse`](https://docs.python.org/2/library/argparse.html) module, and its [`ArgumentParser`](https://docs.python.org/2/library/argparse.html#argumentparser-objects) class, as a way to clearly and concisely specify command line arguments.\n",
      "\n",
      "I won't go into details here, as there is a very good [`arparse` tutorial](https://docs.python.org/2/howto/argparse.html) on the main Python site.\n",
      "\n",
      "Instead, I'll show a simple program with a `__main__` environment specification that creates an `ArgumentParser` object to which is added a single command line argument, `name`, a string representing a person's name, and then prints a welcome message for that person. Note that this a different name than `__name__`, which is the name of the current Python environment. \n",
      "\n",
      "Until yesterday, I have always invoked the [`parse_args()`](https://docs.python.org/2/library/argparse.html#argparse.ArgumentParser.parse_args) method to pass arguments from the command line. The expected behavior was that, since this cell is not being invoked from a command line (with arguments), the `default` value of the argument would be bound to the `name` attribute of the `args` object, and then printed along with `'Hello'`.\n",
      "\n",
      "Unfortunately, when used in an IPython Notehook without any explicit arguments, `parse_args()` generates an error, as it appears the evaluation of a Python cell includes several implicit arguments that are passed to the `__main__` environment ... which, since these were not explicitly specified in an `add_argument()` call,  can be seen in the error message below."
     ]
    },
    {
     "cell_type": "code",
     "collapsed": false,
     "input": [
      "import argparse\n",
      "\n",
      "if __name__ == '__main__':\n",
      "    parser = argparse.ArgumentParser(description=\"Print a welcome message using a person's name\")\n",
      "    parser.add_argument('-n', '--name', default='joe mccarthy')\n",
      "    \n",
      "    args = parser.parse_args() # using parse_args --> error: unrecognized arguments\n",
      "    \n",
      "    print 'hello', args.name"
     ],
     "language": "python",
     "metadata": {},
     "outputs": [
      {
       "output_type": "stream",
       "stream": "stderr",
       "text": [
        "usage: -c [-h] [-n NAME]\n",
        "-c: error: unrecognized arguments: -f /Users/joem/.ipython/profile_default/security/kernel-3a09bf5d-c466-4574-a591-d61b19850eb1.json --IPKernelApp.parent_appname='ipython-notebook' --profile-dir /Users/joem/.ipython/profile_default --parent=1\n"
       ]
      },
      {
       "ename": "SystemExit",
       "evalue": "2",
       "output_type": "pyerr",
       "traceback": [
        "An exception has occurred, use %tb to see the full traceback.\n",
        "\u001b[0;31mSystemExit\u001b[0m\u001b[0;31m:\u001b[0m 2\n"
       ]
      },
      {
       "output_type": "stream",
       "stream": "stderr",
       "text": [
        "To exit: use 'exit', 'quit', or Ctrl-D.\n"
       ]
      }
     ],
     "prompt_number": 2
    },
    {
     "cell_type": "heading",
     "level": 2,
     "metadata": {},
     "source": [
      "Using `argparse.ArgumentParser.parse_unknown_args()`"
     ]
    },
    {
     "cell_type": "markdown",
     "metadata": {},
     "source": [
      "Fortunately, there is a related function, [`parse_known_args()`](https://docs.python.org/2/library/argparse.html#argparse.ArgumentParser.parse_known_args), that returns a tuple containing the values for any explicitly specified (known) arguments and the values for any unspecified (unknown) arguments. The arguments shown in the error message above are simply assigned the the `unknown` variable in the call below, and the `ArgumentParser` works as desired."
     ]
    },
    {
     "cell_type": "code",
     "collapsed": false,
     "input": [
      "import argparse\n",
      "\n",
      "if __name__ == '__main__':\n",
      "    parser = argparse.ArgumentParser('Test')\n",
      "    parser.add_argument('-n', '--name', default='joe mccarthy')\n",
      "    \n",
      "    args, unknown = parser.parse_known_args() # using parse_known_args --> no error\n",
      "    \n",
      "    print 'hello', args.name\n",
      "    print\n",
      "    print args    # show the values of the explicit arguments\n",
      "    print unknown # and the implicit arguments"
     ],
     "language": "python",
     "metadata": {},
     "outputs": [
      {
       "output_type": "stream",
       "stream": "stdout",
       "text": [
        "hello joe mccarthy\n",
        "\n",
        "Namespace(name='joe mccarthy')\n",
        "['-f', '/Users/joem/.ipython/profile_default/security/kernel-3a09bf5d-c466-4574-a591-d61b19850eb1.json', \"--IPKernelApp.parent_appname='ipython-notebook'\", '--profile-dir', '/Users/joem/.ipython/profile_default', '--parent=1']\n"
       ]
      }
     ],
     "prompt_number": 3
    },
    {
     "cell_type": "markdown",
     "metadata": {},
     "source": [
      "Just to add a little more context, since adding this to the IPython Notebook I was working on yesterday, I decided to define a `non_default_arguments` list in the cell itself, which enabled me to easily experiment with different non-default argument values."
     ]
    },
    {
     "cell_type": "code",
     "collapsed": false,
     "input": [
      "import argparse\n",
      "\n",
      "if __name__ == '__main__':\n",
      "    parser = argparse.ArgumentParser('Test')\n",
      "    parser.add_argument('-n', '--name', default='joe mccarthy')\n",
      "    \n",
      "    non_default_arguments = ['-n', 'Guido van Rossum']\n",
      "    \n",
      "    args, unknown = parser.parse_known_args(non_default_arguments) # using parse_known_args --> no error\n",
      "    \n",
      "    print 'hello', args.name\n",
      "    print\n",
      "    print args    # show the values of the explicit arguments\n",
      "    print unknown # and the implcit arguments"
     ],
     "language": "python",
     "metadata": {},
     "outputs": [
      {
       "output_type": "stream",
       "stream": "stdout",
       "text": [
        "hello Guido van Rossum\n",
        "\n",
        "Namespace(name='Guido van Rossum')\n",
        "[]\n"
       ]
      }
     ],
     "prompt_number": 4
    },
    {
     "cell_type": "markdown",
     "metadata": {},
     "source": [
      "In creating the cell above, I was surprised to see that there are no `unknown` arguments when I passed it an explicit list of arguments as the value of the optional `args` parameter for `parse_known_args`.\n",
      "\n",
      "It turns out that passing an explicit list of arguments to `parse_args()` - which also has an optional `args` parameter - does not generate an error message."
     ]
    },
    {
     "cell_type": "code",
     "collapsed": false,
     "input": [
      "import argparse\n",
      "\n",
      "if __name__ == '__main__':\n",
      "    parser = argparse.ArgumentParser('Test')\n",
      "    parser.add_argument('-n', '--name', default='joe mccarthy')\n",
      "    \n",
      "    non_default_arguments = ['-n', 'Guido van Rossum']\n",
      "    \n",
      "    args = parser.parse_args(non_default_arguments) # using parse_known_args --> no error\n",
      "    \n",
      "    print 'hello', args.name\n",
      "    print\n",
      "    print args # values of arguments specified above"
     ],
     "language": "python",
     "metadata": {},
     "outputs": [
      {
       "output_type": "stream",
       "stream": "stdout",
       "text": [
        "hello Guido van Rossum\n",
        "\n",
        "Namespace(name='Guido van Rossum')\n"
       ]
      }
     ],
     "prompt_number": 5
    },
    {
     "cell_type": "markdown",
     "metadata": {},
     "source": [
      "And, just to close the loop, it turns out that calling `parse_args()` with an empty list of explcit `non_default_arguments` also avoids the error."
     ]
    },
    {
     "cell_type": "code",
     "collapsed": false,
     "input": [
      "import argparse\n",
      "\n",
      "if __name__ == '__main__':\n",
      "    parser = argparse.ArgumentParser('Test')\n",
      "    parser.add_argument('-n', '--name', default='joe mccarthy')\n",
      "    \n",
      "    non_default_arguments = []\n",
      "    \n",
      "    args = parser.parse_args(non_default_arguments) # using empty list --> no error\n",
      "    \n",
      "    print 'hello', args.name\n",
      "    print\n",
      "    print args # values of arguments specified above"
     ],
     "language": "python",
     "metadata": {},
     "outputs": [
      {
       "output_type": "stream",
       "stream": "stdout",
       "text": [
        "hello joe mccarthy\n",
        "\n",
        "Namespace(name='joe mccarthy')\n"
       ]
      }
     ],
     "prompt_number": 6
    },
    {
     "cell_type": "markdown",
     "metadata": {},
     "source": [
      "I plan to use `parse_known_args()` rather than `parse_args()` from now on - in IPython Notebooks and scripts I write in other development environments to be invoked only from the command line - as it is more robust, and enables better error checking and feedback."
     ]
    },
    {
     "cell_type": "code",
     "collapsed": false,
     "input": [
      "import argparse\n",
      "\n",
      "if __name__ == '__main__':\n",
      "    parser = argparse.ArgumentParser('Test')\n",
      "    parser.add_argument('-n', '--name', default='joe mccarthy')\n",
      "    \n",
      "    non_default_arguments = ['-x', 'unknown argument'] # -x is not an explicit or implicit argument\n",
      "    \n",
      "    args, unknown = parser.parse_known_args(non_default_arguments)\n",
      "    if unknown:\n",
      "        print 'Unknown arguments:', unknown\n",
      "        print\n",
      "        parser.print_help()\n",
      "    else:\n",
      "        print 'hello', args.name\n",
      "        print\n",
      "        print args    # show the values of the explicit arguments\n",
      "        print unknown # and the implcit arguments"
     ],
     "language": "python",
     "metadata": {},
     "outputs": [
      {
       "output_type": "stream",
       "stream": "stdout",
       "text": [
        "Unknown arguments: ['-x', 'unknown argument']\n",
        "\n",
        "usage: Test [-h] [-n NAME]\n",
        "\n",
        "optional arguments:\n",
        "  -h, --help            show this help message and exit\n",
        "  -n NAME, --name NAME\n"
       ]
      }
     ],
     "prompt_number": 7
    },
    {
     "cell_type": "code",
     "collapsed": false,
     "input": [],
     "language": "python",
     "metadata": {},
     "outputs": [],
     "prompt_number": 7
    }
   ],
   "metadata": {}
  }
 ]
}